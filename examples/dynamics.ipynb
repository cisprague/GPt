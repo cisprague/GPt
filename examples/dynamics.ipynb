{
 "metadata": {
  "language_info": {
   "codemirror_mode": {
    "name": "ipython",
    "version": 3
   },
   "file_extension": ".py",
   "mimetype": "text/x-python",
   "name": "python",
   "nbconvert_exporter": "python",
   "pygments_lexer": "ipython3",
   "version": "3.6.9-final"
  },
  "orig_nbformat": 2,
  "kernelspec": {
   "name": "python36964bit043ffadb65b643c08049ca9ce565f7c3",
   "display_name": "Python 3.6.9 64-bit",
   "language": "python"
  }
 },
 "nbformat": 4,
 "nbformat_minor": 2,
 "cells": [
  {
   "cell_type": "code",
   "execution_count": 9,
   "metadata": {},
   "outputs": [],
   "source": [
    "from sympy import *\n",
    "from barfoot_utils_np import create_rot\n",
    "init_printing()"
   ]
  },
  {
   "cell_type": "code",
   "execution_count": 10,
   "metadata": {},
   "outputs": [],
   "source": [
    "# State\n",
    "x, y, z, rho, phi, theta = symbols('x y z \\\\rho \\\\phi \\\\theta', real=True)\n",
    "xn, yn, zn, rhon, phin, thetan = symbols('xn yn zn rhon phin thetan', real=True)\n",
    "\n",
    "# Landmark\n",
    "mx, my, mz = symbols('mx my mz', real=True)\n",
    "\n",
    "# Control input\n",
    "vx, vy, vz, wx, wy, wz = symbols('v_x v_y v_z \\\\omega_x \\\\omega_y \\\\omega_z', real=True)\n",
    "dt = Symbol('dt', real=True)\n",
    "\n",
    "# Vehicle state and landmark\n",
    "X = Matrix([x,y,z, rho, phi, theta])\n",
    "Xn = Matrix([xn,yn,zn, rhon, phin, thetan])\n",
    "V = Matrix([vx,vy,vz, wx, wy, wz])\n",
    "m = Matrix([mx, my, mz])"
   ]
  },
  {
   "cell_type": "code",
   "execution_count": 21,
   "metadata": {},
   "outputs": [],
   "source": [
    "def create_rot_sym(Xrot):\n",
    "\n",
    "    '''\n",
    "    :param Xrot: Euler angles (1x3)\n",
    "    '''\n",
    "\n",
    "    # each dimension\n",
    "    Rx = rot_axis1(Xrot[0])\n",
    "    Ry = rot_axis2(Xrot[1])\n",
    "    Rz = rot_axis3(Xrot[2])\n",
    "    \n",
    "    # Sympy doesn't follow the right-hand rule\n",
    "    Rz[0,1] = -Rz[0,1]\n",
    "    Rz[1,0] = -Rz[1,0]\n",
    "    Ry[0,2] = -Ry[0,2]\n",
    "    Ry[2,0] = -Ry[2,0]\n",
    "    Rx[1,2] = -Rx[1,2]\n",
    "    Rx[2,1] = -Rx[2,1]\n",
    "\n",
    "    Rxyz = Rz.multiply(Ry).multiply(Rx)\n",
    "\n",
    "    return Rxyz"
   ]
  },
  {
   "cell_type": "code",
   "execution_count": 22,
   "metadata": {},
   "outputs": [
    {
     "output_type": "execute_result",
     "data": {
      "text/plain": [
       "⎡vₓ⋅cos(\\phi)⋅cos(\\theta) + v_y⋅(sin(\\phi)⋅sin(\\rho)⋅cos(\\theta) - sin(\\theta)\n",
       "⎢                                                                             \n",
       "⎢vₓ⋅sin(\\theta)⋅cos(\\phi) + v_y⋅(sin(\\phi)⋅sin(\\rho)⋅sin(\\theta) + cos(\\rho)⋅c\n",
       "⎢                                                                             \n",
       "⎢                                           -vₓ⋅sin(\\phi) + v_y⋅sin(\\rho)⋅cos(\n",
       "⎢                                                                             \n",
       "⎢                                                                        \\omeg\n",
       "⎢                                                                             \n",
       "⎢                                                                        \\omeg\n",
       "⎢                                                                             \n",
       "⎣                                                                        \\omeg\n",
       "\n",
       "⋅cos(\\rho)) + v_z⋅(sin(\\phi)⋅cos(\\rho)⋅cos(\\theta) + sin(\\rho)⋅sin(\\theta))⎤\n",
       "                                                                           ⎥\n",
       "os(\\theta)) + v_z⋅(sin(\\phi)⋅sin(\\theta)⋅cos(\\rho) - sin(\\rho)⋅cos(\\theta))⎥\n",
       "                                                                           ⎥\n",
       "\\phi) + v_z⋅cos(\\phi)⋅cos(\\rho)                                            ⎥\n",
       "                                                                           ⎥\n",
       "aₓ                                                                         ⎥\n",
       "                                                                           ⎥\n",
       "a_y                                                                        ⎥\n",
       "                                                                           ⎥\n",
       "a_z                                                                        ⎦"
      ],
      "text/latex": "$\\displaystyle \\left[\\begin{matrix}v_{x} \\cos{\\left(\\phi \\right)} \\cos{\\left(\\theta \\right)} + v_{y} \\left(\\sin{\\left(\\phi \\right)} \\sin{\\left(\\rho \\right)} \\cos{\\left(\\theta \\right)} - \\sin{\\left(\\theta \\right)} \\cos{\\left(\\rho \\right)}\\right) + v_{z} \\left(\\sin{\\left(\\phi \\right)} \\cos{\\left(\\rho \\right)} \\cos{\\left(\\theta \\right)} + \\sin{\\left(\\rho \\right)} \\sin{\\left(\\theta \\right)}\\right)\\\\v_{x} \\sin{\\left(\\theta \\right)} \\cos{\\left(\\phi \\right)} + v_{y} \\left(\\sin{\\left(\\phi \\right)} \\sin{\\left(\\rho \\right)} \\sin{\\left(\\theta \\right)} + \\cos{\\left(\\rho \\right)} \\cos{\\left(\\theta \\right)}\\right) + v_{z} \\left(\\sin{\\left(\\phi \\right)} \\sin{\\left(\\theta \\right)} \\cos{\\left(\\rho \\right)} - \\sin{\\left(\\rho \\right)} \\cos{\\left(\\theta \\right)}\\right)\\\\- v_{x} \\sin{\\left(\\phi \\right)} + v_{y} \\sin{\\left(\\rho \\right)} \\cos{\\left(\\phi \\right)} + v_{z} \\cos{\\left(\\phi \\right)} \\cos{\\left(\\rho \\right)}\\\\\\omega_x\\\\\\omega_y\\\\\\omega_z\\end{matrix}\\right]$"
     },
     "metadata": {},
     "execution_count": 22
    }
   ],
   "source": [
    "def dynamics(X, V):\n",
    "\n",
    "    '''\n",
    "    :param X: latent state (1x6)\n",
    "    :param V: control input (1x6)\n",
    "    '''\n",
    "\n",
    "    dV = Matrix([V[3:6]])\n",
    "    Rxyz = create_rot_sym(X[3:6])\n",
    "    dX = Rxyz.subs([\n",
    "        (rho, X[3]),\n",
    "        (phi, X[4]),\n",
    "        (theta, X[5])\n",
    "    ]).multiply(Matrix(V[0:3]))\n",
    "    return Matrix([*dX, *dV])\n",
    "\n",
    "dynamics(X, V)"
   ]
  },
  {
   "cell_type": "code",
   "execution_count": 23,
   "metadata": {},
   "outputs": [
    {
     "output_type": "execute_result",
     "data": {
      "text/plain": [
       "⎡                 cos(\\phi)⋅cos(\\theta)                                    sin\n",
       "⎢                                                                             \n",
       "⎢sin(\\phi)⋅sin(\\rho)⋅cos(\\theta) - sin(\\theta)⋅cos(\\rho)  sin(\\phi)⋅sin(\\rho)⋅\n",
       "⎢                                                                             \n",
       "⎢sin(\\phi)⋅cos(\\rho)⋅cos(\\theta) + sin(\\rho)⋅sin(\\theta)  sin(\\phi)⋅sin(\\theta\n",
       "⎢                                                                             \n",
       "⎣                           0                                                 \n",
       "\n",
       "(\\theta)⋅cos(\\phi)                       -sin(\\phi)       -x⎤\n",
       "                                                            ⎥\n",
       "sin(\\theta) + cos(\\rho)⋅cos(\\theta)  sin(\\rho)⋅cos(\\phi)  -y⎥\n",
       "                                                            ⎥\n",
       ")⋅cos(\\rho) - sin(\\rho)⋅cos(\\theta)  cos(\\phi)⋅cos(\\rho)  -z⎥\n",
       "                                                            ⎥\n",
       "       0                                      0           1 ⎦"
      ],
      "text/latex": "$\\displaystyle \\left[\\begin{matrix}\\cos{\\left(\\phi \\right)} \\cos{\\left(\\theta \\right)} & \\sin{\\left(\\theta \\right)} \\cos{\\left(\\phi \\right)} & - \\sin{\\left(\\phi \\right)} & - x\\\\\\sin{\\left(\\phi \\right)} \\sin{\\left(\\rho \\right)} \\cos{\\left(\\theta \\right)} - \\sin{\\left(\\theta \\right)} \\cos{\\left(\\rho \\right)} & \\sin{\\left(\\phi \\right)} \\sin{\\left(\\rho \\right)} \\sin{\\left(\\theta \\right)} + \\cos{\\left(\\rho \\right)} \\cos{\\left(\\theta \\right)} & \\sin{\\left(\\rho \\right)} \\cos{\\left(\\phi \\right)} & - y\\\\\\sin{\\left(\\phi \\right)} \\cos{\\left(\\rho \\right)} \\cos{\\left(\\theta \\right)} + \\sin{\\left(\\rho \\right)} \\sin{\\left(\\theta \\right)} & \\sin{\\left(\\phi \\right)} \\sin{\\left(\\theta \\right)} \\cos{\\left(\\rho \\right)} - \\sin{\\left(\\rho \\right)} \\cos{\\left(\\theta \\right)} & \\cos{\\left(\\phi \\right)} \\cos{\\left(\\rho \\right)} & - z\\\\0 & 0 & 0 & 1\\end{matrix}\\right]$"
     },
     "metadata": {},
     "execution_count": 23
    }
   ],
   "source": [
    "def measurment_model(X, L):\n",
    "\n",
    "    '''\n",
    "    :param X: latent state (1x6)\n",
    "    :param L: landmarks\n",
    "    '''\n",
    "\n",
    "    T = eye(4)\n",
    "    T[0:3, 0:3] = create_rot_sym(X[3:6])\n",
    "    T[0:3, 3] = X[0:3]\n",
    "    Tinv = eye(4)\n",
    "    Tinv[0:3, 0:3] = T[0:3, 0:3].T\n",
    "    Tinv[0:3, 3] = -T_inv[0:3,0:3]*T[0:3,3]\n",
    "\n",
    "    return Tinv\n",
    "\n",
    "measurment_model(X, None)"
   ]
  }
 ]
}