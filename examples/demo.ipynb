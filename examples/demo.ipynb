{
 "cells": [
  {
   "cell_type": "markdown",
   "metadata": {},
   "source": [
    "# Demo Notebook\n",
    "### A simple example in training GPSSM models."
   ]
  },
  {
   "cell_type": "code",
   "execution_count": 5,
   "metadata": {},
   "outputs": [],
   "source": [
    "import sys, os\n",
    "sys.path.insert(0, os.path.abspath('..'))\n",
    "\n",
    "import numpy as np\n",
    "import numpy.random as rnd\n",
    "import tensorflow as tf\n",
    "tf.logging.set_verbosity(tf.logging.ERROR)\n",
    "\n",
    "import gpflow as gp\n",
    "from gpflow import settings as gps\n",
    "from GPt import GPSSM_VCDT, GPSSM_FactorizedLinear, PRSSM\n",
    "from GPt.transitions import KinkTransitions\n",
    "from GPt.emissions import GaussianEmissions\n",
    "\n",
    "import matplotlib\n",
    "import matplotlib.pyplot as plt\n",
    "from GPt.transitions import AUVTransitions"
   ]
  },
  {
   "cell_type": "markdown",
   "metadata": {},
   "source": [
    "# \"Kink\" Transition Function\n",
    "### We will try to learn the transition function shown below, by only looking at noisy data."
   ]
  },
  {
   "cell_type": "code",
   "execution_count": 6,
   "metadata": {},
   "outputs": [],
   "source": [
    "state_dim = 1\n",
    "obs_dim = 1\n",
    "\n",
    "# tr_fn = KinkTransitions(dim=state_dim)\n",
    "tr_fn = AUVTransitions()\n",
    "session = tr_fn.enquire_session()"
   ]
  },
  {
   "cell_type": "markdown",
   "metadata": {},
   "source": [
    "### Let's visualise the transition function and a trajectory:"
   ]
  },
  {
   "cell_type": "code",
   "execution_count": 7,
   "metadata": {},
   "outputs": [
    {
     "output_type": "error",
     "ename": "TypeError",
     "evalue": "conditional_mean() missing 1 required positional argument: 'inputs'",
     "traceback": [
      "\u001b[0;31m---------------------------------------------------------------------------\u001b[0m",
      "\u001b[0;31mTypeError\u001b[0m                                 Traceback (most recent call last)",
      "\u001b[0;32m<ipython-input-7-cb34034a5a24>\u001b[0m in \u001b[0;36m<module>\u001b[0;34m\u001b[0m\n\u001b[1;32m     19\u001b[0m \u001b[0mX_tf\u001b[0m \u001b[0;34m=\u001b[0m \u001b[0mtf\u001b[0m\u001b[0;34m.\u001b[0m\u001b[0mconstant\u001b[0m\u001b[0;34m(\u001b[0m\u001b[0mX\u001b[0m\u001b[0;34m)\u001b[0m\u001b[0;34m\u001b[0m\u001b[0;34m\u001b[0m\u001b[0m\n\u001b[1;32m     20\u001b[0m \u001b[0;34m\u001b[0m\u001b[0m\n\u001b[0;32m---> 21\u001b[0;31m \u001b[0mF\u001b[0m \u001b[0;34m=\u001b[0m \u001b[0msession\u001b[0m\u001b[0;34m.\u001b[0m\u001b[0mrun\u001b[0m\u001b[0;34m(\u001b[0m\u001b[0mtr_fn\u001b[0m\u001b[0;34m.\u001b[0m\u001b[0mconditional_mean\u001b[0m\u001b[0;34m(\u001b[0m\u001b[0mX_tf\u001b[0m\u001b[0;34m)\u001b[0m\u001b[0;34m)\u001b[0m\u001b[0;34m\u001b[0m\u001b[0;34m\u001b[0m\u001b[0m\n\u001b[0m\u001b[1;32m     22\u001b[0m \u001b[0mF\u001b[0m\u001b[0;34m\u001b[0m\u001b[0;34m\u001b[0m\u001b[0m\n",
      "\u001b[0;32m/usr/local/lib/python3.6/dist-packages/gpflow/decors.py\u001b[0m in \u001b[0;36mtensor_mode_wrapper\u001b[0;34m(obj, *args, **kwargs)\u001b[0m\n\u001b[1;32m     65\u001b[0m         \u001b[0mprev_value\u001b[0m \u001b[0;34m=\u001b[0m \u001b[0m_params_as_tensors_enter\u001b[0m\u001b[0;34m(\u001b[0m\u001b[0mobj\u001b[0m\u001b[0;34m,\u001b[0m \u001b[0;32mTrue\u001b[0m\u001b[0;34m)\u001b[0m\u001b[0;34m\u001b[0m\u001b[0;34m\u001b[0m\u001b[0m\n\u001b[1;32m     66\u001b[0m         \u001b[0;32mtry\u001b[0m\u001b[0;34m:\u001b[0m\u001b[0;34m\u001b[0m\u001b[0;34m\u001b[0m\u001b[0m\n\u001b[0;32m---> 67\u001b[0;31m             \u001b[0mresult\u001b[0m \u001b[0;34m=\u001b[0m \u001b[0mmethod\u001b[0m\u001b[0;34m(\u001b[0m\u001b[0mobj\u001b[0m\u001b[0;34m,\u001b[0m \u001b[0;34m*\u001b[0m\u001b[0margs\u001b[0m\u001b[0;34m,\u001b[0m \u001b[0;34m**\u001b[0m\u001b[0mkwargs\u001b[0m\u001b[0;34m)\u001b[0m\u001b[0;34m\u001b[0m\u001b[0;34m\u001b[0m\u001b[0m\n\u001b[0m\u001b[1;32m     68\u001b[0m         \u001b[0;32mfinally\u001b[0m\u001b[0;34m:\u001b[0m\u001b[0;34m\u001b[0m\u001b[0;34m\u001b[0m\u001b[0m\n\u001b[1;32m     69\u001b[0m             \u001b[0m_params_as_tensors_exit\u001b[0m\u001b[0;34m(\u001b[0m\u001b[0mobj\u001b[0m\u001b[0;34m,\u001b[0m \u001b[0mprev_value\u001b[0m\u001b[0;34m)\u001b[0m\u001b[0;34m\u001b[0m\u001b[0;34m\u001b[0m\u001b[0m\n",
      "\u001b[0;31mTypeError\u001b[0m: conditional_mean() missing 1 required positional argument: 'inputs'"
     ]
    }
   ],
   "source": [
    "n = 100\n",
    "X = np.vstack((\n",
    "    np.linspace(-10, 10, n),\n",
    "    np.linspace(-10, 10, n),\n",
    "    np.linspace(-10, 10, n),\n",
    "    np.linspace(-np.pi, np.pi, n),\n",
    "    np.linspace(-np.pi, np.pi, n),\n",
    "    np.linspace(0, np.pi, n),\n",
    ")).T\n",
    "inputs = np.vstack((\n",
    "    np.linspace(-2, 2, n),\n",
    "    np.linspace(-2, 2, n),\n",
    "    np.linspace(-2, 2, n),\n",
    "    np.linspace(-2, 2, n),\n",
    "    np.linspace(-2, 2, n),\n",
    "    np.linspace(-2, 2, n)\n",
    ")).T\n",
    "\n",
    "X_tf = tf.constant(X)\n",
    "inputs_tf = tf.constant(inputs)\n",
    "\n",
    "F = session.run(tr_fn.conditional_mean(X_tf))\n",
    "F "
   ]
  },
  {
   "cell_type": "code",
   "execution_count": null,
   "metadata": {},
   "outputs": [],
   "source": [
    "# Let's see what the function does at these inputs:\n",
    "X = np.linspace(-3, 1.1, 100)[:, None]\n",
    "X_tf = tf.constant(X)\n",
    "F = session.run(tr_fn.conditional_mean(X_tf))\n",
    "print(F)\n",
    "\n",
    "# Let's generate a trajectory from an arbitrary starting point:\n",
    "def generate_trajectory(T, x1=0., process_noise_std=0.):\n",
    "    tf_input = tf.placeholder(dtype=gps.float_type, shape=[1,1])\n",
    "    # print(tf_input)\n",
    "    tf_op = tr_fn.conditional_mean(tf_input)\n",
    "    # print(tf_op)\n",
    "    traj = np.zeros((T, 1))\n",
    "    traj[0] = x1\n",
    "    for t in range(T - 1):\n",
    "        noise = np.random.randn() * process_noise_std\n",
    "        feed_dict = {tf_input: traj[[t]]}\n",
    "        traj[t+1] = session.run(tf_op, feed_dict) + noise\n",
    "        # print(traj)\n",
    "    return traj\n",
    "\n",
    "traj = generate_trajectory(T=9, x1=0.5)"
   ]
  },
  {
   "cell_type": "code",
   "execution_count": null,
   "metadata": {},
   "outputs": [],
   "source": []
  },
  {
   "cell_type": "code",
   "execution_count": null,
   "metadata": {},
   "outputs": [],
   "source": [
    "%matplotlib inline\n",
    "\n",
    "def plot_trajectory(traj, colmap='viridis', X=X, F=F,\n",
    "                    title='\"Kink\" Transition Function'):\n",
    "    T = len(traj)\n",
    "    plt.plot(X, F, color='r', zorder=0, alpha=0.7)\n",
    "\n",
    "    cmap = matplotlib.cm.get_cmap(colmap)\n",
    "    plt.scatter(traj[0], traj[1], color=cmap(0), zorder=2)\n",
    "    for i in range(1, T-1):\n",
    "        plt.plot([traj[i-1,0], traj[i,0]], [traj[i,0], traj[i+1,0]], \n",
    "                 color=cmap(i/(T-2)), zorder=1, label='_nolegend_')\n",
    "        plt.scatter(traj[i], traj[i+1], color=cmap(i/(T-2)), zorder=2)\n",
    "\n",
    "    mappable = matplotlib.cm.ScalarMappable(\n",
    "        norm=matplotlib.colors.Normalize(1, T-1), cmap=cmap)\n",
    "    mappable.set_array(np.linspace(0, 1, T-1))\n",
    "    plt.colorbar(mappable, ax=plt.gca(), label='transition index')\n",
    "\n",
    "    plt.title(title)\n",
    "    plt.xlabel('$x_t$')\n",
    "    plt.ylabel('$x_{t+1}$')\n",
    "    plt.legend(['Transition Function', 'Initial Transition'])\n",
    "\n",
    "\n",
    "plt.figure(figsize=(6,4))\n",
    "plot_trajectory(traj)\n",
    "plt.show()"
   ]
  },
  {
   "cell_type": "markdown",
   "metadata": {},
   "source": [
    "### Let's generate some new, noisy data to train our model:\n",
    "Notice that there are two kinds of noise: \"process\" noise and \"observation\" noise.\n",
    "Process noise is added to the latent state before each transition, whereas \n",
    "observation noise is added to the latent states to produce the observations."
   ]
  },
  {
   "cell_type": "code",
   "execution_count": null,
   "metadata": {},
   "outputs": [],
   "source": [
    "rnd.seed(0)\n",
    "\n",
    "T = 20\n",
    "x1 = 0.5\n",
    "process_noise_std = 0.05\n",
    "observation_noise_std = 0.2\n",
    "\n",
    "latents = generate_trajectory(T=T, x1=x1, process_noise_std=process_noise_std)\n",
    "observations = latents + np.random.randn(T, state_dim) * observation_noise_std"
   ]
  },
  {
   "cell_type": "code",
   "execution_count": null,
   "metadata": {},
   "outputs": [],
   "source": [
    "%matplotlib inline\n",
    "fig, ax = plt.subplots(1, 2, figsize=(9,4))\n",
    "ax[0].plot(latents, 'r-o')\n",
    "ax[0].plot(observations, 'k-o')\n",
    "ax[0].legend(['Latent States', 'Noisy Observations'], loc='lower left')KTH-VPN\n",
    "ax[0].set_xlabel('time-step')\n",
    "plot_trajectory(observations, title=None)\n",
    "fig.suptitle('A Noisy Trajectory')\n",
    "plt.show()"
   ]
  },
  {
   "cell_type": "markdown",
   "metadata": {
    "collapsed": true
   },
   "source": [
    "## Model Initialisation\n",
    "### The initialisation arguments below are the ones shared by all GPSSM models.\n",
    "Multiple sequence models have special arguments to specify mini-batching over independent sequences and whether the posterior of long sequences should be \"chunked\" up to break dependence and make cubic sampling tractable.\n",
    "\n",
    "All models have `Z, Umu, Ucov_chol` as variational parameters for the GP posterior.\n",
    "\n",
    "The `GPSSM_FactorizedLinear` model parameterises the joint Gaussian variational posterior over states with `Xmu, Xcov`.\n",
    "\n",
    "All other models parameterise the Gaussian posterior transitions using `As, bs, Ss`, and `qx1_mu, qx1_cov` for the initial state posterior.\n",
    "\n",
    "All covariances are internally represented and optimised by their Cholesky decomposition (their variable names end in `chol`)."
   ]
  },
  {
   "cell_type": "code",
   "execution_count": null,
   "metadata": {},
   "outputs": [],
   "source": [
    "param_dict = {\n",
    "    \n",
    "# Required arguments:\n",
    "    \n",
    "    'latent_dim': state_dim,  # latent dimensionality of the data\n",
    "    'Y': observations,  # the observed sequence (i.e. the data)\n",
    "    \n",
    "# Optional arguments and default values: \n",
    "    \n",
    "    'inputs': None,  # control inputs (if any)\n",
    "    'emissions': None,  # the emission model (default: linear transformation plus Gaussian noise)\n",
    "    'px1_mu': None,  # the Gaussian's prior mean for the initial latent state (default: 0)\n",
    "    'px1_cov': None,  # the Gaussian's prior covariance for the initial \n",
    "                      # latent state (default: identity)\n",
    "    'kern': None,  # the Gaussian process' kernel (default: Matern 3/2 kernel)\n",
    "    'Z': None,  # the inducing inputs (default: standard normal samples)\n",
    "    'n_ind_pts': 100,  # the number of inducing points (ignored if Z is given)\n",
    "    'mean_fn': None,  # the Gaussian process' mean function (default: the identity function)\n",
    "    'Q_diag': None,  # the diagonal of the Gaussian process noise's covariance matrix (default: 1)\n",
    "    'Umu': None,  # the mean of the Gaussian posterior over inducing outputs (default: 0)\n",
    "    'Ucov_chol': None,  # Cholesky of the covariance matrix of the Gaussian \n",
    "                        # posterior over inducing outputs (default: identity - whitening in use)\n",
    "    'n_samples': 100,  # number of samples from the posterior with which we will compute the ELBO\n",
    "    'seed': None,  # random seed for the samples\n",
    "    'jitter': gps.numerics.jitter_level,  # amount of jitter to be added to the kernel matrix\n",
    "    'name': None  # the name of the initialised model in the tensorflow graph\n",
    "}"
   ]
  },
  {
   "cell_type": "markdown",
   "metadata": {},
   "source": [
    "### Let's set some parameters appropriately for the task:"
   ]
  },
  {
   "cell_type": "code",
   "execution_count": null,
   "metadata": {},
   "outputs": [],
   "source": [
    "param_dict['Z'] = observations.copy()\n",
    "param_dict['mean_fn'] = gp.mean_functions.Zero()\n",
    "\n",
    "# Let's also initialise and fix the observation model to the true one.\n",
    "# We don't want to learn this here since there's too little data and scale invariances \n",
    "# between the GP kernel and the emission's linear transformation. We fix it to the identity\n",
    "# plus Gaussian noise:\n",
    "obs_noise_covariance = np.eye(obs_dim) * (observation_noise_std ** 2.)\n",
    "emissions = GaussianEmissions(\n",
    "    obs_dim=obs_dim,\n",
    "    R=obs_noise_covariance)\n",
    "\n",
    "emissions.trainable = False\n",
    "param_dict['emissions'] = emissions"
   ]
  },
  {
   "cell_type": "markdown",
   "metadata": {},
   "source": [
    "### and build the models:"
   ]
  },
  {
   "cell_type": "code",
   "execution_count": null,
   "metadata": {},
   "outputs": [],
   "source": [
    "# The inference method proposed by Ialongo et al. (2019) - ICML\n",
    "vcdt = GPSSM_VCDT(**param_dict)\n",
    "\n",
    "# The factorised, joint Gaussian GPSSM outlined\n",
    "# in McHutchon (2014) - PhD Thesis: mlg.eng.cam.ac.uk/pub/pdf/Mch14.pdf\n",
    "factlin = GPSSM_FactorizedLinear(**param_dict)\n",
    "\n",
    "# The inference method proposed by Doerr et al. (2018) - ICML\n",
    "prssm = PRSSM(**param_dict)"
   ]
  },
  {
   "cell_type": "markdown",
   "metadata": {},
   "source": [
    "## Model Fitting"
   ]
  },
  {
   "cell_type": "markdown",
   "metadata": {},
   "source": [
    "### Let's define an optimisation method:"
   ]
  },
  {
   "cell_type": "code",
   "execution_count": null,
   "metadata": {},
   "outputs": [],
   "source": [
    "optimizer = gp.train.AdamOptimizer()"
   ]
  },
  {
   "cell_type": "markdown",
   "metadata": {},
   "source": [
    "### and minimise our objective (i.e. the negative of the lower bound on the marginal likelihood):\n",
    "#### To track training with `tensorboard` I highly recommend using GPflow's `monitor` module."
   ]
  },
  {
   "cell_type": "code",
   "execution_count": null,
   "metadata": {},
   "outputs": [],
   "source": [
    "maxiter = int(3e4)"
   ]
  },
  {
   "cell_type": "code",
   "execution_count": null,
   "metadata": {},
   "outputs": [],
   "source": [
    "%%time\n",
    "optimizer.minimize(vcdt, maxiter=maxiter)\n",
    "print('Value of the variational lower bound for VCDT:', \n",
    "      vcdt.compute_log_likelihood(), '\\n')"
   ]
  },
  {
   "cell_type": "code",
   "execution_count": null,
   "metadata": {},
   "outputs": [],
   "source": [
    "%%time\n",
    "optimizer.minimize(factlin, maxiter=maxiter)\n",
    "print('Value of the variational lower bound for Factorized-Linear method:', \n",
    "      factlin.compute_log_likelihood(), '\\n')"
   ]
  },
  {
   "cell_type": "code",
   "execution_count": null,
   "metadata": {},
   "outputs": [],
   "source": [
    "%%time\n",
    "optimizer.minimize(prssm, maxiter=maxiter)\n",
    "print('Value of the variational lower bound for PR-SSM:', \n",
    "      prssm.compute_log_likelihood(), '\\n')"
   ]
  },
  {
   "cell_type": "markdown",
   "metadata": {},
   "source": [
    "## Visualising model fit"
   ]
  },
  {
   "cell_type": "markdown",
   "metadata": {},
   "source": [
    "### GP predictions:"
   ]
  },
  {
   "cell_type": "code",
   "execution_count": null,
   "metadata": {},
   "outputs": [],
   "source": [
    "F_mu_vcdt, F_var_vcdt = session.run(vcdt._build_predict_f(X_tf))\n",
    "\n",
    "F_mu_factlin, F_var_factlin = session.run(\n",
    "    factlin.transitions.conditional(X_tf, add_noise=False))\n",
    "\n",
    "F_mu_prssm, F_var_prssm = session.run(prssm._build_predict_f(X_tf))"
   ]
  },
  {
   "cell_type": "markdown",
   "metadata": {},
   "source": [
    "### Plotting:"
   ]
  },
  {
   "cell_type": "code",
   "execution_count": null,
   "metadata": {},
   "outputs": [],
   "source": [
    "%matplotlib inline\n",
    "fig, ax = plt.subplots(1, 3, figsize=(9,4), sharex=True, sharey=True)\n",
    "\n",
    "sigmas = 2  # how many standard deviations to show \n",
    "\n",
    "def plot_learned_function(ax, F_mu, F_var, Z):\n",
    "    ax.fill_between(\n",
    "        X[:, 0], \n",
    "        F_mu[:, 0] - sigmas*(F_var[:, 0]**0.5), \n",
    "        F_mu[:, 0] + sigmas*(F_var[:, 0]**0.5), \n",
    "        color='gray', alpha=0.5)\n",
    "    \n",
    "    ax.plot(X, F, 'r')\n",
    "    ax.plot(X, F_mu, 'k')\n",
    "\n",
    "    ax.scatter(observations[:-1, 0], observations[1:, 0], \n",
    "               s=15, color='orange')\n",
    "    \n",
    "    ax.scatter(Z[:, 0], np.zeros(len(Z)) - 3, \n",
    "               s=15, marker='^', color='k')\n",
    "\n",
    "    ax.set_xlabel('$x_t$')\n",
    "    ax.set_xlim(X.min(), X.max())\n",
    "    ax.set_ylim(-4, 3)\n",
    "\n",
    "plot_learned_function(ax[0], F_mu_vcdt, F_var_vcdt, \n",
    "                      vcdt.Z.feat.Z.value)\n",
    "plot_learned_function(ax[1], F_mu_factlin, F_var_factlin, \n",
    "                      factlin.transitions.Z.feat.Z.value)\n",
    "plot_learned_function(ax[2], F_mu_prssm, F_var_prssm, \n",
    "                      prssm.Z.feat.Z.value)\n",
    "\n",
    "ax[0].set_ylabel('$x_{t+1}$')\n",
    "ax[1].legend(['True Function', \n",
    "              'Learned Function Mean', \n",
    "              '${}\\sigma$ Confidence Interval'.format(sigmas), \n",
    "              'Observations', \n",
    "              'Inducing Inputs'],\n",
    "             loc='upper center',\n",
    "             prop={'size': 7})\n",
    "\n",
    "ax[0].set_title('VCDT')\n",
    "ax[1].set_title('Factorized - Linear')\n",
    "ax[2].set_title('PR-SSM')\n",
    "plt.show()"
   ]
  },
  {
   "cell_type": "code",
   "execution_count": null,
   "metadata": {},
   "outputs": [],
   "source": []
  }
 ],
 "metadata": {
  "kernelspec": {
   "display_name": "Python 3.6.9 64-bit",
   "language": "python",
   "name": "python36964bit043ffadb65b643c08049ca9ce565f7c3"
  },
  "language_info": {
   "codemirror_mode": {
    "name": "ipython",
    "version": 3
   },
   "file_extension": ".py",
   "mimetype": "text/x-python",
   "name": "python",
   "nbconvert_exporter": "python",
   "pygments_lexer": "ipython3",
   "version": "3.6.9-final"
  }
 },
 "nbformat": 4,
 "nbformat_minor": 2
}